{
 "cells": [
  {
   "cell_type": "code",
   "execution_count": 1,
   "metadata": {},
   "outputs": [
    {
     "name": "stderr",
     "output_type": "stream",
     "text": [
      "Using TensorFlow backend.\n"
     ]
    },
    {
     "name": "stdout",
     "output_type": "stream",
     "text": [
      "Model: \"sequential_1\"\n",
      "_________________________________________________________________\n",
      "Layer (type)                 Output Shape              Param #   \n",
      "=================================================================\n",
      "conv2d_1 (Conv2D)            (None, 96, 96, 16)        1216      \n",
      "_________________________________________________________________\n",
      "max_pooling2d_1 (MaxPooling2 (None, 48, 48, 16)        0         \n",
      "_________________________________________________________________\n",
      "conv2d_2 (Conv2D)            (None, 44, 44, 32)        12832     \n",
      "_________________________________________________________________\n",
      "max_pooling2d_2 (MaxPooling2 (None, 22, 22, 32)        0         \n",
      "_________________________________________________________________\n",
      "conv2d_3 (Conv2D)            (None, 18, 18, 64)        51264     \n",
      "_________________________________________________________________\n",
      "max_pooling2d_3 (MaxPooling2 (None, 9, 9, 64)          0         \n",
      "_________________________________________________________________\n",
      "conv2d_4 (Conv2D)            (None, 5, 5, 128)         204928    \n",
      "_________________________________________________________________\n",
      "max_pooling2d_4 (MaxPooling2 (None, 2, 2, 128)         0         \n",
      "_________________________________________________________________\n",
      "flatten_1 (Flatten)          (None, 512)               0         \n",
      "_________________________________________________________________\n",
      "dense_1 (Dense)              (None, 1024)              525312    \n",
      "_________________________________________________________________\n",
      "dense_2 (Dense)              (None, 256)               262400    \n",
      "_________________________________________________________________\n",
      "dense_3 (Dense)              (None, 120)               30840     \n",
      "=================================================================\n",
      "Total params: 1,088,792\n",
      "Trainable params: 1,088,792\n",
      "Non-trainable params: 0\n",
      "_________________________________________________________________\n"
     ]
    }
   ],
   "source": [
    "from keras.models import Sequential\n",
    "from keras.layers import Dense, Conv2D, MaxPooling2D, Flatten\n",
    "\n",
    "model_new = Sequential([\n",
    "  Conv2D(16, (5, 5), input_shape=(100, 100, 3), activation='relu' ),\n",
    "  MaxPooling2D(pool_size=(2, 2), strides = 2),\n",
    "  Conv2D(32, (5, 5), activation = 'relu'),\n",
    "  MaxPooling2D(pool_size=(2, 2), strides = 2),\n",
    "  Conv2D(64, (5, 5), activation = 'relu'),\n",
    "  MaxPooling2D(pool_size=(2, 2), strides = 2),\n",
    "  Conv2D(128, (5, 5), activation = 'relu'),\n",
    "  MaxPooling2D(pool_size=(2, 2), strides = 2),\n",
    "  Flatten(),\n",
    "  Dense(1024, activation = 'relu'),\n",
    "  Dense(256, activation = 'relu'),\n",
    "  Dense(120, activation = 'softmax')\n",
    "])\n",
    "\n",
    "model_new.summary()"
   ]
  },
  {
   "cell_type": "code",
   "execution_count": 2,
   "metadata": {},
   "outputs": [
    {
     "name": "stdout",
     "output_type": "stream",
     "text": [
      "Loaded Weights into the new Model\n"
     ]
    }
   ],
   "source": [
    "model_new.load_weights('model_fruits.h5')\n",
    "print('Loaded Weights into the new Model')"
   ]
  },
  {
   "cell_type": "code",
   "execution_count": 3,
   "metadata": {},
   "outputs": [],
   "source": [
    "model_new.compile(loss='categorical_crossentropy',\n",
    "                 optimizer='adam',\n",
    "                 metrics=['accuracy'])"
   ]
  },
  {
   "cell_type": "code",
   "execution_count": 5,
   "metadata": {},
   "outputs": [
    {
     "name": "stdout",
     "output_type": "stream",
     "text": [
      "Found 0 images belonging to 0 classes.\n"
     ]
    }
   ],
   "source": [
    "from tensorflow.keras.preprocessing.image import ImageDataGenerator\n",
    "\n",
    "test_datagen = ImageDataGenerator(rescale=1./255)\n",
    "test_dir = r\"C:\\Users\\Sagar Mishra\\jupyter notebooks\\fruits-360_dataset\\fruits-360\\test-multiple_fruits\"\n",
    "test_generator = test_datagen.flow_from_directory(\n",
    "test_dir,\n",
    "target_size = (100, 100))"
   ]
  },
  {
   "cell_type": "code",
   "execution_count": 6,
   "metadata": {},
   "outputs": [
    {
     "name": "stdout",
     "output_type": "stream",
     "text": [
      "(106, 100, 100, 3)\n",
      "(106,)\n"
     ]
    }
   ],
   "source": [
    "import os\n",
    "import imageio\n",
    "import tensorflow as tf\n",
    "import re\n",
    "import numpy as np\n",
    "\n",
    "test_names = os.listdir(test_dir)\n",
    "names = test_names\n",
    "for value in range(len(test_names)):\n",
    "  test_names[value] = os.path.join(test_dir, test_names[value])\n",
    "\n",
    "X = []\n",
    "Y = []\n",
    "\n",
    "for value in range(len(test_names)):\n",
    "  numpy_image = imageio.imread(test_names[value])\n",
    "  numpy_image = numpy_image.astype('float32')\n",
    "  numpy_image /= 255.0\n",
    "  tensor_image = tf.convert_to_tensor(numpy_image)\n",
    "  X.append(tf.image.resize_with_pad(tensor_image, 100, 100))\n",
    "  regexName  = re.compile(r'_([a-zA-Z]+){1,10}')\n",
    "  Name = re.findall(regexName, names[value])\n",
    "  regexNamei = re.compile(r'^([a-zA-Z]+)_')\n",
    "  Namei = re.findall(regexNamei, names[value])\n",
    "  Y.append(Namei + Name)\n",
    "  \n",
    "X = np.asarray(X)\n",
    "Y = np.asarray(Y)\n",
    "\n",
    "print(X.shape)\n",
    "print(Y.shape)"
   ]
  },
  {
   "cell_type": "code",
   "execution_count": 12,
   "metadata": {},
   "outputs": [
    {
     "name": "stdout",
     "output_type": "stream",
     "text": [
      "106/106 [==============================] - 0s 3ms/step\n",
      "(106, 120)\n"
     ]
    }
   ],
   "source": [
    "pred = model_new.predict(x = X, batch_size = 10, verbose = 1 )\n",
    "print(pred.shape) \n"
   ]
  },
  {
   "cell_type": "code",
   "execution_count": 16,
   "metadata": {},
   "outputs": [
    {
     "name": "stdout",
     "output_type": "stream",
     "text": [
      "<class 'numpy.ndarray'>\n"
     ]
    }
   ],
   "source": [
    "print(type(pred))"
   ]
  },
  {
   "cell_type": "code",
   "execution_count": 14,
   "metadata": {},
   "outputs": [
    {
     "name": "stdout",
     "output_type": "stream",
     "text": [
      "12 1.0\n"
     ]
    }
   ],
   "source": [
    "max_value = 0.0\n",
    "index = 0\n",
    "for i, values in enumerate(pred[0]):\n",
    "  if max_value < values:\n",
    "    max_value = values\n",
    "    index = i\n",
    "\n",
    "print(index, max_value)"
   ]
  },
  {
   "cell_type": "code",
   "execution_count": 15,
   "metadata": {},
   "outputs": [
    {
     "name": "stdout",
     "output_type": "stream",
     "text": [
      "{0: 'Apple Braeburn', 1: 'Apple Crimson Snow', 2: 'Apple Golden 1', 3: 'Apple Golden 2', 4: 'Apple Golden 3', 5: 'Apple Granny Smith', 6: 'Apple Pink Lady', 7: 'Apple Red 1', 8: 'Apple Red 2', 9: 'Apple Red 3', 10: 'Apple Red Delicious', 11: 'Apple Red Yellow 1', 12: 'Apple Red Yellow 2', 13: 'Apricot', 14: 'Avocado', 15: 'Avocado ripe', 16: 'Banana', 17: 'Banana Lady Finger', 18: 'Banana Red', 19: 'Beetroot', 20: 'Blueberry', 21: 'Cactus fruit', 22: 'Cantaloupe 1', 23: 'Cantaloupe 2', 24: 'Carambula', 25: 'Cauliflower', 26: 'Cherry 1', 27: 'Cherry 2', 28: 'Cherry Rainier', 29: 'Cherry Wax Black', 30: 'Cherry Wax Red', 31: 'Cherry Wax Yellow', 32: 'Chestnut', 33: 'Clementine', 34: 'Cocos', 35: 'Dates', 36: 'Eggplant', 37: 'Ginger Root', 38: 'Granadilla', 39: 'Grape Blue', 40: 'Grape Pink', 41: 'Grape White', 42: 'Grape White 2', 43: 'Grape White 3', 44: 'Grape White 4', 45: 'Grapefruit Pink', 46: 'Grapefruit White', 47: 'Guava', 48: 'Hazelnut', 49: 'Huckleberry', 50: 'Kaki', 51: 'Kiwi', 52: 'Kohlrabi', 53: 'Kumquats', 54: 'Lemon', 55: 'Lemon Meyer', 56: 'Limes', 57: 'Lychee', 58: 'Mandarine', 59: 'Mango', 60: 'Mango Red', 61: 'Mangostan', 62: 'Maracuja', 63: 'Melon Piel de Sapo', 64: 'Mulberry', 65: 'Nectarine', 66: 'Nectarine Flat', 67: 'Nut Forest', 68: 'Nut Pecan', 69: 'Onion Red', 70: 'Onion Red Peeled', 71: 'Onion White', 72: 'Orange', 73: 'Papaya', 74: 'Passion Fruit', 75: 'Peach', 76: 'Peach 2', 77: 'Peach Flat', 78: 'Pear', 79: 'Pear Abate', 80: 'Pear Forelle', 81: 'Pear Kaiser', 82: 'Pear Monster', 83: 'Pear Red', 84: 'Pear Williams', 85: 'Pepino', 86: 'Pepper Green', 87: 'Pepper Red', 88: 'Pepper Yellow', 89: 'Physalis', 90: 'Physalis with Husk', 91: 'Pineapple', 92: 'Pineapple Mini', 93: 'Pitahaya Red', 94: 'Plum', 95: 'Plum 2', 96: 'Plum 3', 97: 'Pomegranate', 98: 'Pomelo Sweetie', 99: 'Potato Red', 100: 'Potato Red Washed', 101: 'Potato Sweet', 102: 'Potato White', 103: 'Quince', 104: 'Rambutan', 105: 'Raspberry', 106: 'Redcurrant', 107: 'Salak', 108: 'Strawberry', 109: 'Strawberry Wedge', 110: 'Tamarillo', 111: 'Tangelo', 112: 'Tomato 1', 113: 'Tomato 2', 114: 'Tomato 3', 115: 'Tomato 4', 116: 'Tomato Cherry Red', 117: 'Tomato Maroon', 118: 'Tomato Yellow', 119: 'Walnut'}\n"
     ]
    }
   ],
   "source": [
    "train_path = 'C:\\\\Users\\\\Sagar Mishra\\\\jupyter notebooks\\\\fruits-360_dataset\\\\fruits-360\\\\Training'\n",
    "\n",
    "all_avail_names = os.listdir(train_path)\n",
    "dict_of_names = {}\n",
    "\n",
    "for i,name in enumerate(all_avail_names):\n",
    "  dict_of_names[i] = name\n",
    "  \n",
    "print(dict_of_names)"
   ]
  },
  {
   "cell_type": "code",
   "execution_count": 18,
   "metadata": {},
   "outputs": [
    {
     "name": "stdout",
     "output_type": "stream",
     "text": [
      "0 Apple Red Yellow 2\n",
      "1 Cauliflower\n",
      "2 Pepper Green\n",
      "3 Strawberry\n",
      "4 Cauliflower\n",
      "5 Plum\n",
      "6 Plum\n",
      "7 Pepper Green\n",
      "8 Strawberry\n",
      "9 Strawberry\n",
      "10 Apple Crimson Snow\n",
      "11 Strawberry\n",
      "12 Strawberry\n",
      "13 Strawberry\n",
      "14 Mangostan\n",
      "15 Carambula\n",
      "16 Carambula\n",
      "17 Carambula\n",
      "18 Carambula\n",
      "19 Lemon Meyer\n",
      "20 Strawberry\n",
      "21 Mangostan\n",
      "22 Plum\n",
      "23 Eggplant\n",
      "24 Pepper Green\n",
      "25 Strawberry\n",
      "26 Avocado\n",
      "27 Strawberry\n",
      "28 Pepper Green\n",
      "29 Carambula\n",
      "30 Strawberry\n",
      "31 Strawberry\n",
      "32 Strawberry\n",
      "33 Cauliflower\n",
      "34 Plum\n",
      "35 Plum\n",
      "36 Strawberry\n",
      "37 Pepper Green\n",
      "38 Pepper Green\n",
      "39 Pineapple\n",
      "40 Mangostan\n",
      "41 Eggplant\n",
      "42 Cauliflower\n",
      "43 Carambula\n",
      "44 Strawberry\n",
      "45 Strawberry\n",
      "46 Strawberry\n",
      "47 Strawberry\n",
      "48 Pineapple Mini\n",
      "49 Strawberry\n",
      "50 Cherry 1\n",
      "51 Apple Red Yellow 2\n",
      "52 Cauliflower\n",
      "53 Carambula\n",
      "54 Carambula\n",
      "55 Dates\n",
      "56 Pepper Yellow\n",
      "57 Cauliflower\n",
      "58 Apple Red Yellow 2\n",
      "59 Pineapple Mini\n",
      "60 Quince\n",
      "61 Strawberry\n",
      "62 Pineapple\n",
      "63 Strawberry\n",
      "64 Carambula\n",
      "65 Pepper Green\n",
      "66 Cauliflower\n",
      "67 Pepper Green\n",
      "68 Pepper Green\n",
      "69 Strawberry\n",
      "70 Strawberry\n",
      "71 Strawberry\n",
      "72 Pineapple\n",
      "73 Strawberry\n",
      "74 Cherry 1\n",
      "75 Pepper Green\n",
      "76 Cauliflower\n",
      "77 Pitahaya Red\n",
      "78 Plum\n",
      "79 Cauliflower\n",
      "80 Cauliflower\n",
      "81 Pepper Green\n",
      "82 Pitahaya Red\n",
      "83 Pitahaya Red\n",
      "84 Tomato 2\n",
      "85 Pitahaya Red\n",
      "86 Pitahaya Red\n",
      "87 Pitahaya Red\n",
      "88 Cauliflower\n",
      "89 Pepper Green\n",
      "90 Pitahaya Red\n",
      "91 Pitahaya Red\n",
      "92 Pepper Green\n",
      "93 Pineapple\n",
      "94 Pineapple\n",
      "95 Cauliflower\n",
      "96 Cauliflower\n",
      "97 Cauliflower\n",
      "98 Mangostan\n",
      "99 Strawberry\n",
      "100 Pepper Yellow\n",
      "101 Carambula\n",
      "102 Strawberry\n",
      "103 Cauliflower\n",
      "104 Strawberry\n",
      "105 Strawberry\n"
     ]
    }
   ],
   "source": [
    "predictions = []\n",
    "for prediction in pred:\n",
    "  predictions.append(np.argmax(prediction))\n",
    "  \n",
    "predicted_names = []\n",
    "for values in predictions:\n",
    "  predicted_names.append(dict_of_names[values])\n",
    "\n",
    "for i, ans in enumerate(predicted_names):\n",
    "  print(i, ans)"
   ]
  },
  {
   "cell_type": "code",
   "execution_count": 21,
   "metadata": {},
   "outputs": [
    {
     "name": "stdout",
     "output_type": "stream",
     "text": [
      "Found 20622 images belonging to 120 classes.\n"
     ]
    },
    {
     "data": {
      "text/plain": [
       "[363.60247802734375, 0.9675104022026062]"
      ]
     },
     "execution_count": 21,
     "metadata": {},
     "output_type": "execute_result"
    }
   ],
   "source": [
    "import warnings\n",
    "warnings.simplefilter('ignore')\n",
    "\n",
    "test_path = 'C:\\\\Users\\\\Sagar Mishra\\\\jupyter notebooks\\\\fruits-360_dataset\\\\fruits-360\\\\Test'\n",
    "test_datagen = ImageDataGenerator(1./255)\n",
    "test_generator = test_datagen.flow_from_directory(\n",
    "directory = test_path,\n",
    "target_size = (100, 100))\n",
    "\n",
    "model_new.evaluate_generator(test_generator)"
   ]
  },
  {
   "cell_type": "code",
   "execution_count": null,
   "metadata": {},
   "outputs": [],
   "source": []
  }
 ],
 "metadata": {
  "kernelspec": {
   "display_name": "Python 3",
   "language": "python",
   "name": "python3"
  },
  "language_info": {
   "codemirror_mode": {
    "name": "ipython",
    "version": 3
   },
   "file_extension": ".py",
   "mimetype": "text/x-python",
   "name": "python",
   "nbconvert_exporter": "python",
   "pygments_lexer": "ipython3",
   "version": "3.7.4"
  }
 },
 "nbformat": 4,
 "nbformat_minor": 2
}
